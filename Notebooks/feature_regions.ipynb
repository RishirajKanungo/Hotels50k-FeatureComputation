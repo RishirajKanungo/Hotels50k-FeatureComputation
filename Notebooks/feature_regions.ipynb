{
 "metadata": {
  "language_info": {
   "codemirror_mode": {
    "name": "ipython",
    "version": 3
   },
   "file_extension": ".py",
   "mimetype": "text/x-python",
   "name": "python",
   "nbconvert_exporter": "python",
   "pygments_lexer": "ipython3",
   "version": "3.7.7-final"
  },
  "orig_nbformat": 2,
  "kernelspec": {
   "name": "python37764bitsemsegpy37conda8dc00fd5bde141089e99646c7805a034",
   "display_name": "Python 3.7.7 64-bit ('semsegpy37': conda)"
  }
 },
 "nbformat": 4,
 "nbformat_minor": 2,
 "cells": [
  {
   "cell_type": "code",
   "execution_count": 116,
   "metadata": {},
   "outputs": [],
   "source": [
    "import torch\n",
    "import torch.nn as nn\n",
    "import numpy as np\n",
    "from scipy.interpolate import interp1d\n",
    "from glob import glob"
   ]
  },
  {
   "cell_type": "code",
   "execution_count": 77,
   "metadata": {},
   "outputs": [],
   "source": [
    "files_2048 = glob('features/**/2048-*.pt', recursive = True) \n",
    "files_162 = glob('features/**/162-*.pt', recursive = True) \n"
   ]
  },
  {
   "cell_type": "code",
   "execution_count": 158,
   "metadata": {},
   "outputs": [
    {
     "output_type": "error",
     "ename": "NotImplementedError",
     "evalue": "Got 3D input, but bilinear mode needs 4D input",
     "traceback": [
      "\u001b[0;31m---------------------------------------------------------------------------\u001b[0m",
      "\u001b[0;31mNotImplementedError\u001b[0m                       Traceback (most recent call last)",
      "\u001b[0;32m<ipython-input-158-46ad67d4baa6>\u001b[0m in \u001b[0;36m<module>\u001b[0;34m\u001b[0m\n\u001b[1;32m     10\u001b[0m \u001b[0;34m\u001b[0m\u001b[0m\n\u001b[1;32m     11\u001b[0m     x = nn.functional.interpolate(\n\u001b[0;32m---> 12\u001b[0;31m                     x.type(torch.FloatTensor), size=(size_2048[0], size_2048[1]), mode='bilinear', align_corners=False)\n\u001b[0m\u001b[1;32m     13\u001b[0m \u001b[0;34m\u001b[0m\u001b[0m\n\u001b[1;32m     14\u001b[0m     \u001b[0mx\u001b[0m\u001b[0;34m.\u001b[0m\u001b[0mshape\u001b[0m\u001b[0;34m\u001b[0m\u001b[0;34m\u001b[0m\u001b[0m\n",
      "\u001b[0;32m~/.conda/envs/semsegpy37/lib/python3.7/site-packages/torch/nn/functional.py\u001b[0m in \u001b[0;36minterpolate\u001b[0;34m(input, size, scale_factor, mode, align_corners)\u001b[0m\n\u001b[1;32m   2555\u001b[0m         \u001b[0;32mreturn\u001b[0m \u001b[0mtorch\u001b[0m\u001b[0;34m.\u001b[0m\u001b[0m_C\u001b[0m\u001b[0;34m.\u001b[0m\u001b[0m_nn\u001b[0m\u001b[0;34m.\u001b[0m\u001b[0mupsample_linear1d\u001b[0m\u001b[0;34m(\u001b[0m\u001b[0minput\u001b[0m\u001b[0;34m,\u001b[0m \u001b[0m_output_size\u001b[0m\u001b[0;34m(\u001b[0m\u001b[0;36m1\u001b[0m\u001b[0;34m)\u001b[0m\u001b[0;34m,\u001b[0m \u001b[0malign_corners\u001b[0m\u001b[0;34m)\u001b[0m\u001b[0;34m\u001b[0m\u001b[0;34m\u001b[0m\u001b[0m\n\u001b[1;32m   2556\u001b[0m     \u001b[0;32melif\u001b[0m \u001b[0minput\u001b[0m\u001b[0;34m.\u001b[0m\u001b[0mdim\u001b[0m\u001b[0;34m(\u001b[0m\u001b[0;34m)\u001b[0m \u001b[0;34m==\u001b[0m \u001b[0;36m3\u001b[0m \u001b[0;32mand\u001b[0m \u001b[0mmode\u001b[0m \u001b[0;34m==\u001b[0m \u001b[0;34m'bilinear'\u001b[0m\u001b[0;34m:\u001b[0m\u001b[0;34m\u001b[0m\u001b[0;34m\u001b[0m\u001b[0m\n\u001b[0;32m-> 2557\u001b[0;31m         \u001b[0;32mraise\u001b[0m \u001b[0mNotImplementedError\u001b[0m\u001b[0;34m(\u001b[0m\u001b[0;34m\"Got 3D input, but bilinear mode needs 4D input\"\u001b[0m\u001b[0;34m)\u001b[0m\u001b[0;34m\u001b[0m\u001b[0;34m\u001b[0m\u001b[0m\n\u001b[0m\u001b[1;32m   2558\u001b[0m     \u001b[0;32melif\u001b[0m \u001b[0minput\u001b[0m\u001b[0;34m.\u001b[0m\u001b[0mdim\u001b[0m\u001b[0;34m(\u001b[0m\u001b[0;34m)\u001b[0m \u001b[0;34m==\u001b[0m \u001b[0;36m3\u001b[0m \u001b[0;32mand\u001b[0m \u001b[0mmode\u001b[0m \u001b[0;34m==\u001b[0m \u001b[0;34m'trilinear'\u001b[0m\u001b[0;34m:\u001b[0m\u001b[0;34m\u001b[0m\u001b[0;34m\u001b[0m\u001b[0m\n\u001b[1;32m   2559\u001b[0m         \u001b[0;32mraise\u001b[0m \u001b[0mNotImplementedError\u001b[0m\u001b[0;34m(\u001b[0m\u001b[0;34m\"Got 3D input, but trilinear mode needs 5D input\"\u001b[0m\u001b[0;34m)\u001b[0m\u001b[0;34m\u001b[0m\u001b[0;34m\u001b[0m\u001b[0m\n",
      "\u001b[0;31mNotImplementedError\u001b[0m: Got 3D input, but bilinear mode needs 4D input"
     ]
    }
   ],
   "source": [
    "for f in zip(files_2048, files_162):\n",
    "    # load the feat\n",
    "    feat_2048 = torch.load(f[0])\n",
    "    feat_162 = torch.load(f[1])\n",
    "\n",
    "    # size of each feat\n",
    "    size_2048 = feat_2048.size()\n",
    "    size_162 = feat_162.size()\n",
    "\n",
    "\n",
    "    x = nn.functional.interpolate(\n",
    "                    feat_2048.type(torch.FloatTensor), size=(size_2048[0], size_2048[1]), mode='bilinear', align_corners=False)\n",
    "\n",
    "    x.shape\n"
   ]
  },
  {
   "cell_type": "code",
   "execution_count": 159,
   "metadata": {},
   "outputs": [
    {
     "output_type": "execute_result",
     "data": {
      "text/plain": [
       "torch.Size([1, 2048, 50, 38])"
      ]
     },
     "metadata": {},
     "execution_count": 159
    }
   ],
   "source": [
    "feat_2048.shape"
   ]
  },
  {
   "cell_type": "code",
   "execution_count": 140,
   "metadata": {},
   "outputs": [
    {
     "output_type": "execute_result",
     "data": {
      "text/plain": [
       "torch.Size([480, 640, 1])"
      ]
     },
     "metadata": {},
     "execution_count": 140
    }
   ],
   "source": [
    "x.shape"
   ]
  },
  {
   "cell_type": "code",
   "execution_count": 144,
   "metadata": {},
   "outputs": [
    {
     "output_type": "execute_result",
     "data": {
      "text/plain": [
       "torch.Size([1, 1, 480, 640])"
      ]
     },
     "metadata": {},
     "execution_count": 144
    }
   ],
   "source": [
    "n = torch.unsqueeze(x.permute(2,0,1), 0)\n",
    "n.shape"
   ]
  },
  {
   "cell_type": "code",
   "execution_count": 147,
   "metadata": {},
   "outputs": [
    {
     "output_type": "execute_result",
     "data": {
      "text/plain": [
       "torch.Size([1, 38, 50])"
      ]
     },
     "metadata": {},
     "execution_count": 147
    }
   ],
   "source": [
    "n = nn.functional.interpolate(\n",
    "                n.type(torch.FloatTensor), size=(size_2048[0], size_2048[1]), mode='bilinear', align_corners=False)\n",
    "\n",
    "torch.squeeze(n, 0).shape"
   ]
  },
  {
   "cell_type": "code",
   "execution_count": 69,
   "metadata": {},
   "outputs": [],
   "source": [
    "all_feats = torch.zeros_like(x)\n",
    "num_classes = 162\n",
    "for i in range(num_classes):\n",
    "    x_np = x.numpy()\n",
    "    coords = np.argwhere(x_np == i)"
   ]
  },
  {
   "cell_type": "code",
   "execution_count": 82,
   "metadata": {},
   "outputs": [
    {
     "output_type": "execute_result",
     "data": {
      "text/plain": [
       "array([], shape=(0, 3), dtype=int64)"
      ]
     },
     "metadata": {},
     "execution_count": 82
    }
   ],
   "source": [
    "coords"
   ]
  },
  {
   "cell_type": "code",
   "execution_count": 79,
   "metadata": {},
   "outputs": [
    {
     "output_type": "execute_result",
     "data": {
      "text/plain": [
       "torch.Size([100, 38, 1])"
      ]
     },
     "metadata": {},
     "execution_count": 79
    }
   ],
   "source": [
    "# x.size()\n",
    "# torch.stack((x, x)).size()\n",
    "all_feats.size()\n",
    "# torch.stack((all_feats, x))[0].shape\n",
    "torch.cat((all_feats, x)).shape\n"
   ]
  },
  {
   "cell_type": "code",
   "execution_count": 71,
   "metadata": {},
   "outputs": [
    {
     "output_type": "execute_result",
     "data": {
      "text/plain": [
       "torch.Size([2, 50, 38, 1])"
      ]
     },
     "metadata": {},
     "execution_count": 71
    }
   ],
   "source": [
    " # create look up for class\n",
    "    # m x n(full size) image, with class at each coordinate\n",
    "    x = torch.zeros((size_162[0], size_162[1], 1), dtype=torch.uint8)\n",
    "    for x_idx in range(s[0]):\n",
    "        for y_idx in range(s[1]): \n",
    "            x[x_idx][y_idx] = torch.argmax(feat_162[x_idx][y_idx])\n",
    "\n",
    "    # interpolate coordinates for each class to res of 2048 vector field\n",
    "    x = torch.unsqueeze(x.permute(2,0,1), 0)\n",
    "    x = nn.functional.interpolate(\n",
    "                x.type(torch.FloatTensor), size=(size_2048[0], size_2048[1]), mode='bilinear', align_corners=False)"
   ]
  }
 ]
}